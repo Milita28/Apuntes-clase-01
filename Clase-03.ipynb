{
 "cells": [
  {
   "cell_type": "markdown",
   "metadata": {},
   "source": [
    "# Clase 03\n"
   ]
  },
  {
   "cell_type": "markdown",
   "metadata": {},
   "source": [
    "## Cliclo while\n"
   ]
  },
  {
   "cell_type": "code",
   "execution_count": 1,
   "metadata": {},
   "outputs": [
    {
     "name": "stdout",
     "output_type": "stream",
     "text": [
      "Se cumple la condicion\n"
     ]
    }
   ],
   "source": [
    "if True:\n",
    "    print (\"Se cumple la condicion\")"
   ]
  },
  {
   "attachments": {},
   "cell_type": "markdown",
   "metadata": {},
   "source": [
    "controlar el while\n"
   ]
  },
  {
   "cell_type": "code",
   "execution_count": 4,
   "metadata": {},
   "outputs": [
    {
     "name": "stdout",
     "output_type": "stream",
     "text": [
      "Oye\n",
      "Oye\n",
      "Oye\n",
      "Oye\n",
      "Oye\n",
      "Oye\n"
     ]
    }
   ],
   "source": [
    "contador = 0\n",
    "\n",
    "while contador <= 5:\n",
    "    print(\"Oye\")\n",
    "    contador = contador + 1"
   ]
  },
  {
   "attachments": {},
   "cell_type": "markdown",
   "metadata": {},
   "source": [
    "Sign up de usuario"
   ]
  },
  {
   "cell_type": "code",
   "execution_count": 6,
   "metadata": {},
   "outputs": [
    {
     "name": "stdout",
     "output_type": "stream",
     "text": [
      "Necesitas crear una contraseña de más de 6 digitos\n",
      "Usuario registrado\n"
     ]
    }
   ],
   "source": [
    "auth = 0\n",
    "while auth == 0:\n",
    "    username = input(\"¿Cuál es tu usuario?\")\n",
    "    password = input(\"¿Cuál es tu contraseña?\")\n",
    "\n",
    "    if len(password) < 6:\n",
    "        print(\"Necesitas crear una contraseña de más de 6 digitos\")\n",
    "    else:\n",
    "        print(\"Usuario registrado\")\n",
    "        auth = 1"
   ]
  },
  {
   "attachments": {},
   "cell_type": "markdown",
   "metadata": {},
   "source": [
    "## Ciclo for"
   ]
  },
  {
   "attachments": {},
   "cell_type": "markdown",
   "metadata": {},
   "source": [
    "el for de rangos nos permite definir cuantas veces se va a repetir un bloque"
   ]
  },
  {
   "cell_type": "code",
   "execution_count": 5,
   "metadata": {},
   "outputs": [
    {
     "name": "stdout",
     "output_type": "stream",
     "text": [
      "hola mundo\n",
      "hola mundo\n",
      "hola mundo\n",
      "hola mundo\n",
      "hola mundo\n",
      "hola mundo\n",
      "hola mundo\n",
      "hola mundo\n",
      "hola mundo\n",
      "hola mundo\n"
     ]
    }
   ],
   "source": [
    "for indice in range(10):\n",
    "    print(\"hola mundo\")"
   ]
  },
  {
   "attachments": {},
   "cell_type": "markdown",
   "metadata": {},
   "source": [
    "Podemos modificar el rango para que empiece en 5 y llegue antes de un numero"
   ]
  },
  {
   "cell_type": "code",
   "execution_count": 7,
   "metadata": {},
   "outputs": [
    {
     "name": "stdout",
     "output_type": "stream",
     "text": [
      "1\n",
      "1\n",
      "1\n",
      "1\n",
      "1\n",
      "1\n",
      "1\n",
      "1\n",
      "1\n",
      "1\n"
     ]
    }
   ],
   "source": [
    "for i in range(5, 15):\n",
    "    print (1)"
   ]
  },
  {
   "cell_type": "code",
   "execution_count": 8,
   "metadata": {},
   "outputs": [
    {
     "name": "stdout",
     "output_type": "stream",
     "text": [
      "5\n",
      "7\n",
      "9\n",
      "11\n",
      "13\n",
      "15\n",
      "17\n",
      "19\n",
      "21\n",
      "23\n"
     ]
    }
   ],
   "source": [
    "for i in range (5, 25, 2):\n",
    "    print(i)"
   ]
  },
  {
   "cell_type": "code",
   "execution_count": 9,
   "metadata": {},
   "outputs": [
    {
     "name": "stdout",
     "output_type": "stream",
     "text": [
      "0\n",
      "1\n",
      "2\n",
      "3\n"
     ]
    }
   ],
   "source": [
    "n = int(input(\"¿Cuántas veces se repetirá?\"))\n",
    "for i in range(n):\n",
    "    print(i)"
   ]
  },
  {
   "attachments": {},
   "cell_type": "markdown",
   "metadata": {},
   "source": [
    "#### For y listas"
   ]
  },
  {
   "attachments": {},
   "cell_type": "markdown",
   "metadata": {},
   "source": [
    "Digamos que queremos crear una lista de contenga los numeros del 0 al 10\n",
    "Primero creamos una lista vacía"
   ]
  },
  {
   "cell_type": "code",
   "execution_count": 10,
   "metadata": {},
   "outputs": [],
   "source": [
    "num_cuadrado = []"
   ]
  },
  {
   "attachments": {},
   "cell_type": "markdown",
   "metadata": {},
   "source": [
    "ciclo de 10 repeticiones y adentro el append del indice elevado al cuadrado"
   ]
  },
  {
   "cell_type": "code",
   "execution_count": 11,
   "metadata": {},
   "outputs": [],
   "source": [
    "for i in range(10):\n",
    "    num_cuadrado.append(i**2)"
   ]
  },
  {
   "attachments": {},
   "cell_type": "markdown",
   "metadata": {},
   "source": [
    "Ahora imprimimos"
   ]
  },
  {
   "cell_type": "code",
   "execution_count": 12,
   "metadata": {},
   "outputs": [
    {
     "name": "stdout",
     "output_type": "stream",
     "text": [
      "[0, 1, 4, 9, 16, 25, 36, 49, 64, 81]\n"
     ]
    }
   ],
   "source": [
    "print(num_cuadrado)"
   ]
  },
  {
   "attachments": {},
   "cell_type": "markdown",
   "metadata": {},
   "source": [
    "Tambien podemos imprimir listas"
   ]
  },
  {
   "cell_type": "code",
   "execution_count": 13,
   "metadata": {},
   "outputs": [
    {
     "name": "stdout",
     "output_type": "stream",
     "text": [
      "manzana\n",
      "plátano\n",
      "pera\n",
      "naranja\n"
     ]
    }
   ],
   "source": [
    "mis_frutas = [\"manzana\", \"plátano\", \"pera\", \"naranja\"]\n",
    "\n",
    "for i in range(4):\n",
    "    print(mis_frutas[i])"
   ]
  },
  {
   "cell_type": "code",
   "execution_count": 14,
   "metadata": {},
   "outputs": [
    {
     "name": "stdout",
     "output_type": "stream",
     "text": [
      "manzana\n",
      "plátano\n",
      "pera\n",
      "naranja\n"
     ]
    }
   ],
   "source": [
    "for i in range(len(mis_frutas)):\n",
    "    print(mis_frutas[i])"
   ]
  },
  {
   "attachments": {},
   "cell_type": "markdown",
   "metadata": {},
   "source": [
    "#### for de elementos"
   ]
  },
  {
   "attachments": {},
   "cell_type": "markdown",
   "metadata": {},
   "source": [
    "el for de elementos nos permite hacer lo anterior pero sin los indices"
   ]
  },
  {
   "cell_type": "code",
   "execution_count": 15,
   "metadata": {},
   "outputs": [
    {
     "name": "stdout",
     "output_type": "stream",
     "text": [
      "manzana\n",
      "plátano\n",
      "pera\n",
      "naranja\n"
     ]
    }
   ],
   "source": [
    "for element in mis_frutas:\n",
    "    print(element)"
   ]
  },
  {
   "cell_type": "code",
   "execution_count": 16,
   "metadata": {},
   "outputs": [
    {
     "name": "stdout",
     "output_type": "stream",
     "text": [
      "manzana\n",
      "plátano\n",
      "pera\n",
      "naranja\n"
     ]
    }
   ],
   "source": [
    "for e in mis_frutas:\n",
    "    print(e)"
   ]
  },
  {
   "attachments": {},
   "cell_type": "markdown",
   "metadata": {},
   "source": [
    "Actividad 6"
   ]
  },
  {
   "attachments": {},
   "cell_type": "markdown",
   "metadata": {},
   "source": [
    "Crear un programa que pida al usuario cuantas calificaciones va a agregar"
   ]
  },
  {
   "attachments": {},
   "cell_type": "markdown",
   "metadata": {},
   "source": [
    "Crear un ciclo for que itere n veces dependiendo la cantidad de calificaciones que solicitó"
   ]
  },
  {
   "attachments": {},
   "cell_type": "markdown",
   "metadata": {},
   "source": [
    "Crear una lista vacia llamada calificaciones"
   ]
  },
  {
   "attachments": {},
   "cell_type": "markdown",
   "metadata": {},
   "source": [
    "En cada itineración, agregar a la lista vacía la calificacion proporcionada"
   ]
  },
  {
   "attachments": {},
   "cell_type": "markdown",
   "metadata": {},
   "source": [
    "Sacar el promedio"
   ]
  },
  {
   "attachments": {},
   "cell_type": "markdown",
   "metadata": {},
   "source": [
    "Imprimir si aprobo o no el año"
   ]
  },
  {
   "cell_type": "code",
   "execution_count": 1,
   "metadata": {},
   "outputs": [
    {
     "name": "stdout",
     "output_type": "stream",
     "text": [
      "Felicidades, aprobaste\n"
     ]
    }
   ],
   "source": [
    "totcalif = int(input(\"¿Cuántas calificaciones vas a agregar?\"))\n",
    "califs = []\n",
    "\n",
    "for i in range(totcalif):\n",
    "\n",
    "    calif = int(input(f\"dame la calificacion {i+1} \"))\n",
    "    califs.append (calif)\n",
    "\n",
    "promedio = sum(califs) / len(califs)\n",
    "\n",
    "if promedio >= 6:\n",
    "\n",
    "    print(f\"Felicidades, aprobaste\")\n",
    "\n",
    "else:\n",
    "\n",
    "    print(\"No la armas\")"
   ]
  }
 ],
 "metadata": {
  "kernelspec": {
   "display_name": "Python 3.11.0 64-bit",
   "language": "python",
   "name": "python3"
  },
  "language_info": {
   "codemirror_mode": {
    "name": "ipython",
    "version": 3
   },
   "file_extension": ".py",
   "mimetype": "text/x-python",
   "name": "python",
   "nbconvert_exporter": "python",
   "pygments_lexer": "ipython3",
   "version": "3.11.0 (main, Oct 24 2022, 18:26:48) [MSC v.1933 64 bit (AMD64)]"
  },
  "orig_nbformat": 4,
  "vscode": {
   "interpreter": {
    "hash": "106525ab40991431d13b67056fa321746df2798b2a431bb53cd09a316b835f87"
   }
  }
 },
 "nbformat": 4,
 "nbformat_minor": 2
}
